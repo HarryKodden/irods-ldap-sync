{
 "cells": [
  {
   "cell_type": "markdown",
   "metadata": {},
   "source": [
    "SYNC Process"
   ]
  },
  {
   "cell_type": "markdown",
   "metadata": {},
   "source": [
    "## Read LDAP - People\n",
    "\n",
    "> Every occurence of people in the LDAP is added to an internal dictionary with key uid of object. \n",
    "\n",
    "> The LDAP attributes of this user are stored as attributes in this dictionary associated this this key.\n"
   ]
  },
  {
   "cell_type": "markdown",
   "metadata": {},
   "source": [
    "## Read LDAP - Groups\n",
    "\n",
    "> Every occurrence of groups in the LDAP is added to an internal dictionary with key cn of object.\n",
    "\n",
    "> The LDAP attributes of this group are stored as attributes in this dictionary associated this this key."
   ]
  },
  {
   "cell_type": "markdown",
   "metadata": {},
   "source": [
    "## Read iRODS - users\n",
    "\n",
    "> Every occurrence of user in iRODS database is added to an internal dictionary with key username of\n",
    "object.\n",
    "\n",
    "> The iRODS metatdata attributes of this user are stored as attributes in this dictionary associated\n",
    "this this key."
   ]
  },
  {
   "cell_type": "markdown",
   "metadata": {},
   "source": [
    "## Read iRODS - groups\n",
    "\n",
    "> Every occurrence of group in iRODS database is added to an internal dictionary with key groupname of\n",
    "object.\n",
    "\n",
    "> The iRODS metatdata attributes of this user are stored as attributes in this dictionary associated\n",
    "this this key."
   ]
  },
  {
   "cell_type": "markdown",
   "metadata": {},
   "source": [
    "## Provisioning - general\n",
    "\n",
    "> Every LDAP user not found in iRODS is created\n",
    "\n",
    "> Every LDAP group not found in iRODS is created\n",
    "\n",
    "> Every member of LDAP group not in member list of iRODS is added to iRODS group memberlist\n",
    "\n",
    "> Every iRODS group member not found in LDAP group member list, is removed from iRODS group\n",
    "members\n",
    "\n",
    "> For each iRODS user the meta attributes are updated to the LDAP attributes found in LDAP People\n",
    "object\n",
    "\n",
    "> for each iRODS group the the meta attributes are updated to the LDAP attributes found in LDAP group object\n",
    "\n",
    "> LDAP user and/or groupnames should not start with an **'\\_'**\n",
    "\n",
    "> iRODS group names starting with **'\\_'** are excluded from synchronization.\n",
    "\n",
    "\n",
    "Objective:\n",
    "\n",
    "> Best practice: Make sure that all data in iRODS is owned by a iRODS Group (not on individual iRODS users !)\n",
    "\n",
    "> This proposals als covers for cases where individual iRODS users do own data.\n",
    "\n",
    "> Make sure there is always 'ownership' of at least 1 owner of the iRODS group, even if the last lDAP\n",
    "member of that group is deleted."
   ]
  },
  {
   "cell_type": "markdown",
   "metadata": {},
   "source": [
    "## What If - About to delete iRODS user and the user has no data?\n",
    "\n",
    "### Happens when:\n",
    "\n",
    "> The iRODS user is not in LDAP anymore.\n",
    "\n",
    "> The iRODS user is still in iRODS.\n",
    "\n",
    "> The iRODS user has no data.\n",
    " \n",
    "> During sync, the process is about to remove the iRODS user.\n",
    "\n",
    "### Proposal:\n",
    "\n",
    "> The iRODS user is removed\n",
    "\n",
    "## What If - About to delete iRODS user and the user has data?\n",
    "\n",
    "### Happens when:\n",
    "\n",
    "> The iRODS user is not in LDAP anymore.\n",
    "\n",
    "> The iRODS user is still in iRODS.\n",
    "\n",
    "> The iRODS user has data.\n",
    "\n",
    "> During sync, the process is about to remove the iRODS user.\n",
    "\n",
    "### Proposal:\n",
    "\n",
    "> Create a 'special' group with name \\_**\\<user_name\\>**\\_**timestamp**\n",
    "\n",
    "> Add irods administrator to this new special group\n",
    "    \n",
    "> Change all data  owned by the iRODS user to now be owned by the new special group\n",
    "\n",
    "### Example:\n",
    "\n",
    "```\n",
    "newgroup = _myuser_`date +\"%Y-%m-%d_%H-%M-%S\"`\n",
    "iadmin mkgroup $newgroup\n",
    "iadmin atg $newgroup irods\n",
    "ichmod -Mr own testuser $newgroup\n",
    "iadmin rmuser testuser\n",
    "```\n"
   ]
  },
  {
   "cell_type": "markdown",
   "metadata": {},
   "source": [
    "## What If - About to delete iRODS group\n",
    "\n",
    "\n",
    "### Happens when:\n",
    "\n",
    "> LDAP group does not exits (anymore)\n",
    "\n",
    "> During sync, the process is about to remove last iRODS group\n",
    "\n",
    "\n",
    "### Proposal:\n",
    "\n",
    "> Rename iRODS group name to \\_**\\<group_name\\>**\\_**timestamp**\n",
    "\n",
    "> Add irods administrator as member of this group\n",
    "\n",
    "### Example:\n",
    "\n",
    "```\n",
    "newgroup = _mygroup_`date +\"%Y-%m-%d_%H-%M-%S\"`\n",
    "iadmin mkgroup $newgroup\n",
    "iadmin atg $newgroup irods\n",
    "ichmod -Mr own mygroup $newgroup\n",
    "iadmin rmgroup mygroup\n",
    "```\n"
   ]
  }
 ],
 "metadata": {
  "kernelspec": {
   "display_name": "Python 3",
   "language": "python",
   "name": "python3"
  },
  "language_info": {
   "codemirror_mode": {
    "name": "ipython",
    "version": 3
   },
   "file_extension": ".py",
   "mimetype": "text/x-python",
   "name": "python",
   "nbconvert_exporter": "python",
   "pygments_lexer": "ipython3",
   "version": "3.8.5"
  }
 },
 "nbformat": 4,
 "nbformat_minor": 4
}
